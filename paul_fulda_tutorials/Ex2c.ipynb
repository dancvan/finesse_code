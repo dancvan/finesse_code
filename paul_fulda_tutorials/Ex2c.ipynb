{
 "cells": [
  {
   "cell_type": "code",
   "execution_count": 1,
   "metadata": {},
   "outputs": [
    {
     "name": "stdout",
     "output_type": "stream",
     "text": [
      "                                              ..-\n",
      "    PyKat 1.1.297         _                  '(\n",
      "                          \\`.|\\.__...-\"\"\"\"-_.\" )\n",
      "       ..+-----.._        /  ' `            .-'\n",
      "   . '            `:      7/* _/._\\    \\   (\n",
      "  (        '::;;+;;:      `-\"' =\" /,`\"\" `) /\n",
      "  L.        \\`:::a:f            c_/     n_'\n",
      "  ..`--...___`.  .    ,\n",
      "   `^-....____:   +.      www.gwoptics.org/pykat\n",
      "\n"
     ]
    }
   ],
   "source": [
    "import numpy as np\n",
    "import matplotlib \n",
    "import matplotlib.pyplot as plt\n",
    "from pykat import finesse\n",
    "from pykat.commands import *\n",
    "from IPython.display import display, HTML\n",
    "\n",
    "%matplotlib inline"
   ]
  },
  {
   "cell_type": "code",
   "execution_count": 2,
   "metadata": {},
   "outputs": [],
   "source": [
    "kat1 = finesse.kat()\n",
    "kat1.verbose = False"
   ]
  },
  {
   "cell_type": "code",
   "execution_count": 3,
   "metadata": {},
   "outputs": [],
   "source": [
    "code = \"\"\"\n",
    "# Ex2c.kat \n",
    "# Simple cavity, PDH signal in reflection.\n",
    "# Observe transfer function from \n",
    "# ETM displacement signal to PDH signal.\n",
    "# Lock ITM tuning or laser frequency with PDH error signal\n",
    "#\n",
    "# P. Fulda 2013.06.17\n",
    "######################################################\n",
    "\n",
    "\n",
    "# interferometer parts\n",
    "l laser 1 0 nlaser\n",
    "s laser2EOM 1 nlaser nEOMin\n",
    "mod EOM 9M 0.1 1 pm nEOMin nEOMtrans\n",
    "s EOM2BS 1 nEOMtrans nBSin\n",
    "bs BSpickoff 0.5 0.5 0 45 nBSin dump nBStrans nBSreturn\n",
    "s BS2ITM 1 nBStrans nITMin\n",
    "m ITM 0.99 0.01 0 nITMin nITMtrans\n",
    "s cavityspace 1 nITMtrans nETMin\n",
    "m ETM 0.99 0.01 0 nETMin nETMtrans\n",
    "s BS2PDHPD 1 nBSreturn nPDHPD\n",
    "\n",
    "\n",
    "# Take transfer function from ETM displacement or laser freq. to\n",
    "# PDH signal \n",
    "#/*\n",
    "# detectors\n",
    "pd2 PDHPD 9M 20 10 nPDHPD\n",
    "fsig mysignal ETM 10 0\n",
    "#fsig mysignal laser 10 0\n",
    "xaxis mysignal f log 0.1 10M 1000\n",
    "put PDHPD f2 $x1\n",
    "yaxis log abs:deg\n",
    "scale meter\n",
    "#*/\n",
    "\n",
    "/*\n",
    "# Engage feedback of PDH error signal to ITM and scan ETM tuning\n",
    "# or laser frequency\n",
    "pd1 PDHPD 9M 0 nPDHPD\n",
    "pd DCPD nETMtrans\n",
    "set PDHerrorsig PDHPD re\n",
    "lock mylock $PDHerrorsig -10 1p\n",
    "put* ITM phi $mylock\n",
    "noplot mylock\n",
    "noplot PDHPD\n",
    "\n",
    "xaxis ETM phi lin 0.1 90 500\n",
    "*/ \n",
    "\n",
    "/*\n",
    "# Engage feedback of PDH error signal to laser freq. and scan ETM tuning\n",
    "pd1 PDHPD 9M 0 nPDHPD\n",
    "pd DCPD nETMtrans\n",
    "set PDHerrorsig PDHPD re\n",
    "lock mylock $PDHerrorsig -10M 1p\n",
    "put laser f $mylock\n",
    "noplot mylock\n",
    "noplot PDHPD\n",
    "\n",
    "xaxis ETM phi lin 0.1 45 500\n",
    "*/\"\"\""
   ]
  },
  {
   "cell_type": "code",
   "execution_count": 4,
   "metadata": {},
   "outputs": [],
   "source": [
    "kat1.parse(code)\n",
    "out = kat1.run()"
   ]
  },
  {
   "cell_type": "code",
   "execution_count": 5,
   "metadata": {},
   "outputs": [
    {
     "data": {
      "image/png": "[encoded data removed]",
      "text/plain": [
       "<matplotlib.figure.Figure at 0x10cb9ba90>"
      ]
     },
     "metadata": {},
     "output_type": "display_data"
    }
   ],
   "source": [
    "fig = out.plot()\n"
   ]
  },
  {
   "cell_type": "code",
   "execution_count": 6,
   "metadata": {},
   "outputs": [],
   "source": [
    "kat2 = deepcopy(kat1)\n",
    "kat2.verbose = False"
   ]
  },
  {
   "cell_type": "code",
   "execution_count": null,
   "metadata": {},
   "outputs": [],
   "source": []
  }
 ],
 "metadata": {
  "kernelspec": {
   "display_name": "Python 3",
   "language": "python",
   "name": "python3"
  },
  "language_info": {
   "codemirror_mode": {
    "name": "ipython",
    "version": 3
   },
   "file_extension": ".py",
   "mimetype": "text/x-python",
   "name": "python",
   "nbconvert_exporter": "python",
   "pygments_lexer": "ipython3",
   "version": "3.6.0"
  }
 },
 "nbformat": 4,
 "nbformat_minor": 2
}
